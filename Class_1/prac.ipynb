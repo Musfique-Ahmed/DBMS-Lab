{
 "cells": [
  {
   "cell_type": "markdown",
   "id": "56624171",
   "metadata": {},
   "source": [
    "RDBMS = Relational DataBase Management System\n",
    "\n",
    "We store data in tables.\n",
    "\n",
    "Relation Name = Table name\n",
    "\n",
    "Attributes = Columns\n",
    "\n",
    "Tuples/Records = Rows\n",
    "\n",
    "Field = Cell\n",
    "\n",
    "All attributes have datatypes which will be assigned when creating column\n",
    "\n",
    "Datatype is the domain of the column\n",
    "\n",
    "Primary key can't be null, A column should be decliared primary key\n",
    "Primary key is a special attribute that identifies each row uniquely.\n",
    "\n",
    "SQL = language\n",
    "MySQL = Database Management System"
   ]
  },
  {
   "cell_type": "markdown",
   "id": "7066d350",
   "metadata": {},
   "source": [
    "DDL = Data Defination Language (Create, Drop, Alter, Truncate[kete fela], Rename)\n",
    "\n",
    "DML = Data Manipulation Language (Insert, Update, Delete, Select)\n",
    "\n",
    "DCL = \n",
    "\n",
    "TCL"
   ]
  },
  {
   "cell_type": "markdown",
   "id": "984dd9de",
   "metadata": {},
   "source": [
    "Database = Collection of multiple \n",
    "\n"
   ]
  },
  {
   "cell_type": "markdown",
   "id": "6412b13d",
   "metadata": {},
   "source": []
  }
 ],
 "metadata": {
  "language_info": {
   "name": "python"
  }
 },
 "nbformat": 4,
 "nbformat_minor": 5
}
